{
 "cells": [
  {
   "cell_type": "markdown",
   "id": "3742a6cb",
   "metadata": {},
   "source": [
    "# ###############    Time Value of Money ##########@\n",
    "#Cash flows --> are a series of gains or losses from an investment over time.\n",
    "\n",
    "#Return on Investment                           --> Return (% Gain) = ((VT2-VT1)/VT1)= r\n",
    "\n",
    "#Calculating Return on Investment (Dollar Value) --> VT2 = VT1 ∗ (1 + r)\n",
    "\n",
    "#Cumulative growth (or depreciation)             --> Investment Value = v ∗ (1 + r)~t\n",
    "\n",
    "#If the growth rate r is negative, the investment's value will depreciate (shrink) over time."
   ]
  },
  {
   "cell_type": "code",
   "execution_count": 1,
   "id": "c1654cba",
   "metadata": {},
   "outputs": [
    {
     "name": "stdout",
     "output_type": "stream",
     "text": [
      "Future Value of Investment: 574.35\n"
     ]
    }
   ],
   "source": [
    "#Calculate the future value (cumulative return) of a $100 investment which grows at a rate of 6% per year for 30 years in a row and assign it to future_value.\n",
    "#Calculate the future value of the investment and print it out\n",
    "future_value = 100 * (1 + 0.06) ** 30\n",
    "print(\"Future Value of Investment: \" + str(round(future_value, 2)))"
   ]
  },
  {
   "cell_type": "code",
   "execution_count": 2,
   "id": "d2240422",
   "metadata": {},
   "outputs": [],
   "source": [
    "# Predefined variables\n",
    "initial_investment = 100\n",
    "growth_periods = 30\n",
    "growth_rate = 0.06"
   ]
  },
  {
   "cell_type": "code",
   "execution_count": 3,
   "id": "dcd2e2ab",
   "metadata": {},
   "outputs": [
    {
     "name": "stdout",
     "output_type": "stream",
     "text": [
      "Investment 1: 574.35\n"
     ]
    }
   ],
   "source": [
    "# Calculate the value for the investment compounded once per year\n",
    "compound_periods_1 = 1\n",
    "investment_1 = initial_investment*(1 + growth_rate / compound_periods_1)**(compound_periods_1*growth_periods)\n",
    "print(\"Investment 1: \" + str(round(investment_1, 2)))"
   ]
  },
  {
   "cell_type": "code",
   "execution_count": 4,
   "id": "72eed8cb",
   "metadata": {},
   "outputs": [
    {
     "name": "stdout",
     "output_type": "stream",
     "text": [
      "Investment 2: 596.93\n"
     ]
    }
   ],
   "source": [
    "# Calculate the value for the investment compounded quarterly\n",
    "compound_periods_2 = 4\n",
    "investment_2 = initial_investment*(1 + growth_rate / compound_periods_2)**(compound_periods_2*growth_periods)\n",
    "print(\"Investment 2: \" + str(round(investment_2, 2)))"
   ]
  },
  {
   "cell_type": "code",
   "execution_count": 5,
   "id": "c16be006",
   "metadata": {},
   "outputs": [
    {
     "name": "stdout",
     "output_type": "stream",
     "text": [
      "Investment 3: 602.26\n"
     ]
    }
   ],
   "source": [
    "# Calculate the value for the investment compounded monthly\n",
    "compound_periods_3 = 12\n",
    "investment_3 = initial_investment*(1 + growth_rate / compound_periods_3)**(compound_periods_3*growth_periods)\n",
    "print(\"Investment 3: \" + str(round(investment_3, 2)))"
   ]
  },
  {
   "cell_type": "code",
   "execution_count": 6,
   "id": "7a8f5cd4",
   "metadata": {},
   "outputs": [
    {
     "name": "stdout",
     "output_type": "stream",
     "text": [
      "Future value: 59.87\n"
     ]
    }
   ],
   "source": [
    "# Calculate the future value\n",
    "initial_investment = 100\n",
    "growth_rate = -0.05\n",
    "growth_periods = 10\n",
    "future_value = initial_investment*(1 + growth_rate)**(growth_periods)\n",
    "print(\"Future value: \" + str(round(future_value, 2)))"
   ]
  },
  {
   "cell_type": "code",
   "execution_count": 7,
   "id": "f1d15ab3",
   "metadata": {},
   "outputs": [
    {
     "name": "stdout",
     "output_type": "stream",
     "text": [
      "Discount factor: 1.67\n"
     ]
    }
   ],
   "source": [
    "# Calculate the discount factor\n",
    "discount_factor = 1/((1 + growth_rate)**(growth_periods))\n",
    "print(\"Discount factor: \" + str(round(discount_factor, 2)))"
   ]
  },
  {
   "cell_type": "code",
   "execution_count": 8,
   "id": "5883e824",
   "metadata": {},
   "outputs": [
    {
     "name": "stdout",
     "output_type": "stream",
     "text": [
      "Initial value: 100.0\n"
     ]
    }
   ],
   "source": [
    "# Derive the initial value of the investment\n",
    "initial_investment_again = future_value * discount_factor\n",
    "print(\"Initial value: \" + str(round(initial_investment_again, 2)))"
   ]
  },
  {
   "cell_type": "markdown",
   "id": "c6ba888f",
   "metadata": {},
   "source": [
    "############ PRESENT AND FUTURE VALUES  #######################\n"
   ]
  },
  {
   "cell_type": "code",
   "execution_count": 11,
   "id": "060cbf22",
   "metadata": {},
   "outputs": [],
   "source": [
    "# Import Necessary packages for calculation\n",
    "import numpy as np\n",
    "import numpy_financial as npf"
   ]
  },
  {
   "cell_type": "code",
   "execution_count": 15,
   "id": "0f3430e0",
   "metadata": {},
   "outputs": [
    {
     "name": "stdout",
     "output_type": "stream",
     "text": [
      "-97.05901479276443\n"
     ]
    }
   ],
   "source": [
    "#Present value in Python\n",
    "#Calculate the present value of $100 received 3 years from now at a 1.0% ination rate.\n",
    "PR_Val=npf.pv(rate=0.01, nper=3, pmt=0, fv=100)\n",
    "print(PR_Val)"
   ]
  },
  {
   "cell_type": "code",
   "execution_count": 16,
   "id": "0a1d0874",
   "metadata": {},
   "outputs": [
    {
     "name": "stdout",
     "output_type": "stream",
     "text": [
      "115.76250000000002\n"
     ]
    }
   ],
   "source": [
    "#Future value in Python\n",
    "#Calculate the future value of $100 invested for 3 years at a 5.0% average annual rate of return.\n",
    "FR_VAL=npf.fv(rate=0.05, nper=3, pmt=0, pv=-100)\n",
    "print(FR_VAL)"
   ]
  },
  {
   "cell_type": "markdown",
   "id": "f4295409",
   "metadata": {},
   "source": [
    "######## @ Calculate Present Value @ "
   ]
  },
  {
   "cell_type": "code",
   "execution_count": 21,
   "id": "2460d141",
   "metadata": {},
   "outputs": [
    {
     "name": "stdout",
     "output_type": "stream",
     "text": [
      "Investment 1 is worth 6418.62 in today's dollars\n"
     ]
    }
   ],
   "source": [
    "# Calculate investment_1\n",
    "investment_1 = npf.pv(rate=0.03, nper=15, pmt=0, fv=10000)\n",
    "# Note that the present value returned is negative, so we multiply the result by -1\n",
    "print(\"Investment 1 is worth \" + str(round(-investment_1, 2)) + \" in today's dollars\")"
   ]
  },
  {
   "cell_type": "code",
   "execution_count": 23,
   "id": "c6465490",
   "metadata": {},
   "outputs": [
    {
     "name": "stdout",
     "output_type": "stream",
     "text": [
      "Investment 2 is worth 6139.13 in today's dollars\n"
     ]
    }
   ],
   "source": [
    "# Calculate investment_2\n",
    "investment_2 = npf.pv(rate=0.05, nper=10, pmt=0, fv=10000)\n",
    "print(\"Investment 2 is worth \" + str(round(-investment_2, 2)) + \" in today's dollars\")"
   ]
  },
  {
   "cell_type": "markdown",
   "id": "e0d11d0c",
   "metadata": {},
   "source": [
    "######## @ Calculate Future Value @"
   ]
  },
  {
   "cell_type": "code",
   "execution_count": 24,
   "id": "bae71020",
   "metadata": {},
   "outputs": [
    {
     "name": "stdout",
     "output_type": "stream",
     "text": [
      "Investment 1 will yield a total of $20789.28 in 15 years\n"
     ]
    }
   ],
   "source": [
    "# Calculate investment_1\n",
    "investment_1 = npf.fv(rate=0.05, nper=15, pmt=0, pv=-10000)\n",
    "print(\"Investment 1 will yield a total of $\" + str(round(investment_1, 2)) + \" in 15 years\")"
   ]
  },
  {
   "cell_type": "code",
   "execution_count": 26,
   "id": "56a16b7d",
   "metadata": {},
   "outputs": [
    {
     "name": "stdout",
     "output_type": "stream",
     "text": [
      "Investment 2 will yield a total of $31721.69 in 15 years\n"
     ]
    }
   ],
   "source": [
    "# Calculate investment_2\n",
    "investment_2 = npf.fv(rate=0.08, nper=15, pmt=0 , pv=-10000)\n",
    "print(\"Investment 2 will yield a total of $\" + str(round(investment_2, 2)) + \" in 15 years\")"
   ]
  },
  {
   "cell_type": "markdown",
   "id": "9186598e",
   "metadata": {},
   "source": [
    "############ Adjusting future values for inflation #######################"
   ]
  },
  {
   "cell_type": "code",
   "execution_count": 29,
   "id": "f73c390e",
   "metadata": {},
   "outputs": [
    {
     "name": "stdout",
     "output_type": "stream",
     "text": [
      "Investment 1 will yield a total of $21589.25 in 10 years\n"
     ]
    }
   ],
   "source": [
    "# Calculate investment_1\n",
    "investment_1 = npf.fv(rate=0.08, nper=10, pmt=0, pv=-10000)\n",
    "print(\"Investment 1 will yield a total of $\" + str(round(investment_1, 2)) + \" in 10 years\")"
   ]
  },
  {
   "cell_type": "code",
   "execution_count": 31,
   "id": "d31bcd80",
   "metadata": {},
   "outputs": [
    {
     "name": "stdout",
     "output_type": "stream",
     "text": [
      "After adjusting for inflation, investment 1 is worth $16064.43 in today's dollars\n"
     ]
    }
   ],
   "source": [
    "# Calculate investment_2\n",
    "investment_1_discounted = npf.pv(rate=0.03, nper=10, pmt=0, fv=investment_1)\n",
    "print(\"After adjusting for inflation, investment 1 is worth $\" + str(round(-investment_1_discounted, 2)) + \" in today's dollars\")"
   ]
  },
  {
   "cell_type": "markdown",
   "id": "3c58d5a8",
   "metadata": {},
   "source": [
    "############ NET PRESENT Value and Cash Flows   #######################\n",
    "\n",
    "#Net Present Values --> NPV --> npv --> Formula --> numpy.npv(rate, values)\n",
    "#To calculate the net present value of a series of cash flows. You can create these cash flows by using a numpy.array([...]) of values\n",
    "#Cash flows --> are a series of gains or losses from an investment over time."
   ]
  },
  {
   "cell_type": "code",
   "execution_count": 35,
   "id": "8fd9c278",
   "metadata": {},
   "outputs": [
    {
     "name": "stdout",
     "output_type": "stream",
     "text": [
      "407.67\n"
     ]
    }
   ],
   "source": [
    "Ex1=npf.npv(rate=0.03, values=np.array([-100, 100, 125, 150, 175]))\n",
    "print(str(round(Ex1, 2)))"
   ]
  },
  {
   "cell_type": "code",
   "execution_count": 36,
   "id": "6f798412",
   "metadata": {},
   "outputs": [
    {
     "name": "stdout",
     "output_type": "stream",
     "text": [
      "552.4\n"
     ]
    }
   ],
   "source": [
    "Ex2 =npf.npv(rate=0.03, values=np.array([100, 100,-100, 200, 300]))\n",
    "print(str(round(Ex2, 2)))"
   ]
  }
 ],
 "metadata": {
  "kernelspec": {
   "display_name": "Python 3.9.13 ('base')",
   "language": "python",
   "name": "python3"
  },
  "language_info": {
   "codemirror_mode": {
    "name": "ipython",
    "version": 3
   },
   "file_extension": ".py",
   "mimetype": "text/x-python",
   "name": "python",
   "nbconvert_exporter": "python",
   "pygments_lexer": "ipython3",
   "version": "3.9.13"
  },
  "vscode": {
   "interpreter": {
    "hash": "83f12c968a18c115c9a5adf87b5db7e005c9a42777344a91f23fbaed78f04bbd"
   }
  }
 },
 "nbformat": 4,
 "nbformat_minor": 5
}
